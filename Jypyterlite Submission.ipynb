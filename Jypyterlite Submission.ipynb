{
  "metadata": {
    "kernelspec": {
      "name": "python",
      "display_name": "Python (Pyodide)",
      "language": "python"
    },
    "language_info": {
      "codemirror_mode": {
        "name": "python",
        "version": 3
      },
      "file_extension": ".py",
      "mimetype": "text/x-python",
      "name": "python",
      "nbconvert_exporter": "python",
      "pygments_lexer": "ipython3",
      "version": "3.8"
    }
  },
  "nbformat_minor": 4,
  "nbformat": 4,
  "cells": [
    {
      "cell_type": "markdown",
      "source": "# Exercise 2: JupyterLite Submission",
      "metadata": {}
    },
    {
      "cell_type": "markdown",
      "source": "## Exercise 3: Introduction\nIn this project, we will explore data science languages, libraries, tools, and basic arithmetic expressions. The notebook will include examples of these elements.",
      "metadata": {}
    },
    {
      "cell_type": "markdown",
      "source": "## Exercise 4 : Data Science Languages\n- Python\n- R\n- SQL\n- Julia\n- Java\n- Scala",
      "metadata": {}
    },
    {
      "cell_type": "markdown",
      "source": "## Exercise 5: Data Science Libraries\n- Pandas\n- NumPy\n- Matplotlib\n- Scikit-learn\n- TensorFlow\n- Keras\n- PyTorch",
      "metadata": {}
    },
    {
      "cell_type": "markdown",
      "source": "## Exercise 6: Data Science Tools\n| Tool           | Purpose                                  |\n|----------------|------------------------------------------|\n| JupyterLite    | Interactive Python environment           |\n| TensorFlow     | Machine learning framework               |\n| Pandas         | Data manipulation and analysis           |\n| NumPy          | Scientific computing with arrays         |\n| Matplotlib     | Data visualization                       |\n| Scikit-learn   | Machine learning and data mining         |\n| PyTorch        | Deep learning framework                  |",
      "metadata": {}
    },
    {
      "cell_type": "markdown",
      "source": "## Exercise 7: Arithmetic Expression Examples\nIn this section, we will demonstrate some basic arithmetic expressions using Python.",
      "metadata": {}
    },
    {
      "cell_type": "code",
      "source": "# Exercise 8: Multiplying and adding numbers\n2+5*15",
      "metadata": {
        "trusted": true
      },
      "outputs": [
        {
          "execution_count": 12,
          "output_type": "execute_result",
          "data": {
            "text/plain": "77"
          },
          "metadata": {}
        }
      ],
      "execution_count": 12
    },
    {
      "cell_type": "code",
      "source": "# Exercise 9: Convert minutes to hours\nminutes = 120\nhours = minutes / 60\nhours",
      "metadata": {
        "trusted": true
      },
      "outputs": [
        {
          "execution_count": 11,
          "output_type": "execute_result",
          "data": {
            "text/plain": "2.0"
          },
          "metadata": {}
        }
      ],
      "execution_count": 11
    },
    {
      "cell_type": "markdown",
      "source": "## Exercise 10: Objectives\n- Understand key data science languages and libraries.\n- Learn basic arithmetic operations in Python.\n- Explore the conversion of time units.\n- Create a clear and structured Jupyter notebook for data science concepts.",
      "metadata": {}
    },
    {
      "cell_type": "code",
      "source": "",
      "metadata": {
        "trusted": true
      },
      "outputs": [],
      "execution_count": null
    }
  ]
}